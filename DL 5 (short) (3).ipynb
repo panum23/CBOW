{
 "cells": [
  {
   "cell_type": "code",
   "execution_count": 1,
   "id": "a7bbe0b5-326a-48d9-8e28-dcc107c6ecdb",
   "metadata": {},
   "outputs": [],
   "source": [
    "# Import required libraries\n",
    "import numpy as np\n",
    "from keras.models import Sequential\n",
    "from keras.layers import Dense, Embedding, GlobalAveragePooling1D\n",
    "from tensorflow.keras.utils import to_categorical\n",
    "import matplotlib.pyplot as plt"
   ]
  },
  {
   "cell_type": "code",
   "execution_count": 2,
   "id": "a0bf326d-62c9-4bc4-9cf5-4c8c3ae96ebc",
   "metadata": {},
   "outputs": [],
   "source": [
    "# Data preparation\n",
    "sentences = \"\"\"We are about to study the idea of a computational process.\n",
    "Computational processes are abstract beings that inhabit computers.\n",
    "As they evolve, processes manipulate other abstract things called data.\n",
    "The evolution of a process is directed by a pattern of rules\n",
    "called a program. People create programs to direct processes.\"\"\"\n",
    "\n",
    "# Clean data\n",
    "sentences = sentences.lower().replace('.', '')\n",
    "words = sentences.split()\n",
    "vocab = set(words)\n",
    "vocab_size = len(vocab)\n",
    "word_to_ix = {word: i for i, word in enumerate(vocab)}\n",
    "ix_to_word = {i: word for i, word in enumerate(vocab)}"
   ]
  },
  {
   "cell_type": "code",
   "execution_count": 3,
   "id": "6f194460-446b-4481-b573-d84b2a679542",
   "metadata": {},
   "outputs": [],
   "source": [
    "# Generate training data\n",
    "data = []\n",
    "context_size = 2\n",
    "for i in range(context_size, len(words) - context_size):\n",
    "    context = [words[i - j] for j in range(context_size, 0, -1)] + \\\n",
    "              [words[i + j] for j in range(1, context_size + 1)]\n",
    "    target = words[i]\n",
    "    data.append((context, target))"
   ]
  },
  {
   "cell_type": "code",
   "execution_count": 4,
   "id": "a75db6b7-3e47-4eca-b114-1568b72d81a4",
   "metadata": {},
   "outputs": [],
   "source": [
    "# Prepare X_train and y_train\n",
    "X_train = []\n",
    "y_train = []\n",
    "for context, target in data:\n",
    "    context_indices = [word_to_ix[w] for w in context]\n",
    "    X_train.append(context_indices)\n",
    "    y_train.append(word_to_ix[target])\n",
    "\n",
    "X_train = np.array(X_train)\n",
    "y_train = to_categorical(y_train, num_classes=vocab_size)"
   ]
  },
  {
   "cell_type": "code",
   "execution_count": 5,
   "id": "4968c599-a7ad-402f-bb05-780c52500760",
   "metadata": {},
   "outputs": [
    {
     "name": "stderr",
     "output_type": "stream",
     "text": [
      "C:\\Users\\C1QUEROR\\AppData\\Roaming\\Python\\Python312\\site-packages\\keras\\src\\layers\\core\\embedding.py:90: UserWarning: Argument `input_length` is deprecated. Just remove it.\n",
      "  warnings.warn(\n"
     ]
    }
   ],
   "source": [
    "# Define the CBOW model with GlobalAveragePooling1D\n",
    "model = Sequential()\n",
    "model.add(Embedding(input_dim=vocab_size, output_dim=50, input_length=4))  # Increase embedding dimensions\n",
    "model.add(GlobalAveragePooling1D())  # Pooling layer to replace Lambda mean\n",
    "model.add(Dense(vocab_size, activation='softmax'))\n",
    "model.compile(loss='categorical_crossentropy', optimizer='adam')"
   ]
  },
  {
   "cell_type": "code",
   "execution_count": 6,
   "id": "d1846f70-e98e-4771-ba9d-7054b644a9ed",
   "metadata": {},
   "outputs": [],
   "source": [
    "# Train the model\n",
    "history = model.fit(X_train, y_train, epochs=200, verbose=0)  # Increased epochs for better learning"
   ]
  },
  {
   "cell_type": "code",
   "execution_count": 7,
   "id": "f0f424e6-e698-40e7-9f8f-48013cd5032d",
   "metadata": {},
   "outputs": [
    {
     "data": {
      "image/png": "[encoded data removed]",
      "text/plain": [
       "<Figure size 640x480 with 1 Axes>"
      ]
     },
     "metadata": {},
     "output_type": "display_data"
    }
   ],
   "source": [
    "# Plot the training loss\n",
    "plt.plot(history.history['loss'])\n",
    "plt.title('Epoch/Losses')\n",
    "plt.xlabel('Epochs')\n",
    "plt.ylabel('Losses')\n",
    "plt.show()"
   ]
  },
  {
   "cell_type": "code",
   "execution_count": 8,
   "id": "7ae255d7-4771-4e54-9c8c-f522efc7fd02",
   "metadata": {},
   "outputs": [],
   "source": [
    "# Update the predict function to make use of the trained model\n",
    "def predict(words):\n",
    "    # Convert context words to indices\n",
    "    context_idxs = np.array([word_to_ix.get(w, 0) for w in words])  # Default to 0 if word not found\n",
    "    context_idxs = context_idxs.reshape(1, -1)  # Reshape for model input (batch_size=1)\n",
    "    \n",
    "    # Predict using the trained model\n",
    "    preds = model.predict(context_idxs, verbose=0)\n",
    "    word = ix_to_word[np.argmax(preds[0])]  # Get the word with the highest probability\n",
    "    \n",
    "    return word"
   ]
  },
  {
   "cell_type": "code",
   "execution_count": 10,
   "id": "a31a2be1-558e-45f6-8d10-0db54fc12a41",
   "metadata": {},
   "outputs": [
    {
     "name": "stdout",
     "output_type": "stream",
     "text": [
      "Predicted word for context ['we', 'are', 'to', 'study']: about\n"
     ]
    }
   ],
   "source": [
    "# Test the updated predict function with example input\n",
    "print(\"Predicted word for context ['we', 'are', 'to', 'study']:\", predict(['we', 'are', 'to', 'study']))"
   ]
  },
  {
   "cell_type": "code",
   "execution_count": 11,
   "id": "b8e8a88f-5170-467c-b889-0c8d96849b23",
   "metadata": {},
   "outputs": [
    {
     "name": "stdout",
     "output_type": "stream",
     "text": [
      "Model accuracy: 1.0\n"
     ]
    }
   ],
   "source": [
    "# Define the accuracy function\n",
    "def accuracy():\n",
    "    correct_predictions = 0\n",
    "    total_predictions = len(data)\n",
    "    \n",
    "    for context, target in data:\n",
    "        predicted_word = predict(context)\n",
    "        if predicted_word == target:\n",
    "            correct_predictions += 1\n",
    "    \n",
    "    return correct_predictions / total_predictions\n",
    "\n",
    "# Calculate and print accuracy\n",
    "print(\"Model accuracy:\", accuracy())"
   ]
  },
  {
   "cell_type": "code",
   "execution_count": null,
   "id": "45652519-6fe0-4eca-9ef5-721cfe5979cf",
   "metadata": {},
   "outputs": [],
   "source": []
  }
 ],
 "metadata": {
  "kernelspec": {
   "display_name": "Python 3 (ipykernel)",
   "language": "python",
   "name": "python3"
  },
  "language_info": {
   "codemirror_mode": {
    "name": "ipython",
    "version": 3
   },
   "file_extension": ".py",
   "mimetype": "text/x-python",
   "name": "python",
   "nbconvert_exporter": "python",
   "pygments_lexer": "ipython3",
   "version": "3.12.4"
  }
 },
 "nbformat": 4,
 "nbformat_minor": 5
}
